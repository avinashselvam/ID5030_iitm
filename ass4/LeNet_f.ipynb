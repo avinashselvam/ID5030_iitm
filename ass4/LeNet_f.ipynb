{
 "cells": [
  {
   "cell_type": "markdown",
   "metadata": {
    "colab_type": "text",
    "id": "MHSIkmzunHVi"
   },
   "source": [
    "## LeNet for MNIST classification"
   ]
  },
  {
   "cell_type": "code",
   "execution_count": 0,
   "metadata": {
    "colab": {
     "autoexec": {
      "startup": false,
      "wait_interval": 0
     }
    },
    "colab_type": "code",
    "collapsed": true,
    "id": "KjFOkpLLZJHm"
   },
   "outputs": [],
   "source": [
    "import tensorflow as tf\n",
    "import numpy as np\n",
    "import matplotlib.pyplot as plt"
   ]
  },
  {
   "cell_type": "code",
   "execution_count": 2,
   "metadata": {
    "colab": {
     "autoexec": {
      "startup": false,
      "wait_interval": 0
     },
     "base_uri": "https://localhost:8080/",
     "height": 84,
     "output_extras": [
      {
       "item_id": 2
      }
     ]
    },
    "colab_type": "code",
    "executionInfo": {
     "elapsed": 1653,
     "status": "ok",
     "timestamp": 1521367733733,
     "user": {
      "displayName": "Avinash Selvam",
      "photoUrl": "//lh6.googleusercontent.com/-OWw3sMItg1E/AAAAAAAAAAI/AAAAAAAAAh4/CZwfXx18yUg/s50-c-k-no/photo.jpg",
      "userId": "106485937356478174490"
     },
     "user_tz": -330
    },
    "id": "pq0XBrpSZO6y",
    "outputId": "be812a71-2a9e-4dff-ba6a-f89ec682b950"
   },
   "outputs": [
    {
     "name": "stdout",
     "output_type": "stream",
     "text": [
      "Extracting MNIST_data/train-images-idx3-ubyte.gz\n",
      "Extracting MNIST_data/train-labels-idx1-ubyte.gz\n",
      "Extracting MNIST_data/t10k-images-idx3-ubyte.gz\n",
      "Extracting MNIST_data/t10k-labels-idx1-ubyte.gz\n"
     ]
    }
   ],
   "source": [
    "from tensorflow.examples.tutorials.mnist import input_data\n",
    "mnist = input_data.read_data_sets('MNIST_data', one_hot=True)"
   ]
  },
  {
   "cell_type": "code",
   "execution_count": 3,
   "metadata": {
    "colab": {
     "autoexec": {
      "startup": false,
      "wait_interval": 0
     },
     "base_uri": "https://localhost:8080/",
     "height": 355,
     "output_extras": [
      {
       "item_id": 1
      }
     ]
    },
    "colab_type": "code",
    "executionInfo": {
     "elapsed": 805,
     "status": "ok",
     "timestamp": 1521367734560,
     "user": {
      "displayName": "Avinash Selvam",
      "photoUrl": "//lh6.googleusercontent.com/-OWw3sMItg1E/AAAAAAAAAAI/AAAAAAAAAh4/CZwfXx18yUg/s50-c-k-no/photo.jpg",
      "userId": "106485937356478174490"
     },
     "user_tz": -330
    },
    "id": "IeMkvNTfeNJo",
    "outputId": "14983f36-942b-4499-f3f3-7ff20f41fc19"
   },
   "outputs": [
    {
     "data": {
      "image/png": "[encoded data removed]",
      "text/plain": [
       "<matplotlib.figure.Figure at 0x7efbddaaa358>"
      ]
     },
     "metadata": {
      "tags": []
     },
     "output_type": "display_data"
    }
   ],
   "source": [
    "plt.matshow(mnist.train.images[0].reshape((28,28)))\n",
    "plt.show()"
   ]
  },
  {
   "cell_type": "code",
   "execution_count": 0,
   "metadata": {
    "colab": {
     "autoexec": {
      "startup": false,
      "wait_interval": 0
     }
    },
    "colab_type": "code",
    "collapsed": true,
    "id": "-ZC424u0eXXu"
   },
   "outputs": [],
   "source": [
    "X = tf.placeholder(tf.float32, [None, 28, 28, 1], name='X')\n",
    "Y = tf.placeholder(tf.float32, [None, 10], name='Y')"
   ]
  },
  {
   "cell_type": "code",
   "execution_count": 0,
   "metadata": {
    "colab": {
     "autoexec": {
      "startup": false,
      "wait_interval": 0
     }
    },
    "colab_type": "code",
    "collapsed": true,
    "id": "2iFr2XSRgPdI"
   },
   "outputs": [],
   "source": [
    "W1 = tf.Variable(tf.truncated_normal([5, 5, 1, 6], stddev=0.1))\n",
    "b1 = tf.Variable(tf.ones([6])/10)\n",
    "\n",
    "W2 = tf.Variable(tf.truncated_normal([5, 5, 6, 16], stddev=0.1))\n",
    "b2 = tf.Variable(tf.ones([16])/10)"
   ]
  },
  {
   "cell_type": "code",
   "execution_count": 0,
   "metadata": {
    "colab": {
     "autoexec": {
      "startup": false,
      "wait_interval": 0
     }
    },
    "colab_type": "code",
    "collapsed": true,
    "id": "KhvAnE8LitpU"
   },
   "outputs": [],
   "source": [
    "conv1 = tf.nn.relu(\n",
    "    tf.nn.conv2d(X, W1, strides=[1, 1, 1, 1], padding=\"SAME\") + b1)\n",
    "\n",
    "pool1 = tf.nn.max_pool(conv1,\n",
    "                       ksize=[1, 2, 2, 1],\n",
    "                       strides = [1, 2, 2, 1],\n",
    "                       padding=\"SAME\")\n",
    "\n",
    "conv2 = tf.nn.relu(\n",
    "    tf.nn.conv2d(pool1, W2, strides=[1, 1, 1, 1], padding=\"SAME\") + b2)\n",
    "\n",
    "pool2 = tf.nn.max_pool(conv2,\n",
    "                       ksize=[1, 2, 2, 1],\n",
    "                       strides = [1, 2, 2, 1],\n",
    "                       padding=\"SAME\")\n",
    "\n",
    "flatten = tf.reshape(pool2, [-1, 16*7*7])"
   ]
  },
  {
   "cell_type": "code",
   "execution_count": 0,
   "metadata": {
    "colab": {
     "autoexec": {
      "startup": false,
      "wait_interval": 0
     }
    },
    "colab_type": "code",
    "collapsed": true,
    "id": "TLgO69Fnl-sE"
   },
   "outputs": [],
   "source": [
    "W3 = tf.Variable(tf.truncated_normal([16*7*7, 120], stddev=0.1))\n",
    "b3 = tf.Variable(tf.ones([120])/10)\n",
    "\n",
    "W4 = tf.Variable(tf.truncated_normal([120, 84], stddev=0.1))\n",
    "b4 = tf.Variable(tf.ones([84])/10)\n",
    "\n",
    "W5 = tf.Variable(tf.truncated_normal([84, 10], stddev=0.1))\n",
    "b5 = tf.Variable(tf.ones([10])/10)"
   ]
  },
  {
   "cell_type": "code",
   "execution_count": 0,
   "metadata": {
    "colab": {
     "autoexec": {
      "startup": false,
      "wait_interval": 0
     }
    },
    "colab_type": "code",
    "collapsed": true,
    "id": "0KvxRd2xqBHw"
   },
   "outputs": [],
   "source": [
    "# drop_out1 = tf.nn.dropout(flatten, 0.4)\n",
    "\n",
    "fc1 = tf.nn.relu(tf.matmul(flatten, W3) + b3)\n",
    "\n",
    "# drop_out2 = tf.nn.dropout(fc1, 0.4)\n",
    "\n",
    "fc2 = tf.nn.relu(tf.matmul(fc1, W4) + b4)\n",
    "\n",
    "\n",
    "Z = tf.matmul(fc2, W5) + b5\n",
    "\n",
    "Y_ = tf.nn.softmax(Z)"
   ]
  },
  {
   "cell_type": "code",
   "execution_count": 0,
   "metadata": {
    "colab": {
     "autoexec": {
      "startup": false,
      "wait_interval": 0
     }
    },
    "colab_type": "code",
    "collapsed": true,
    "id": "nNJSdb8kq2Wk"
   },
   "outputs": [],
   "source": [
    "cross_entropy = tf.nn.softmax_cross_entropy_with_logits_v2(logits=Z, labels=Y)\n",
    "\n",
    "loss_objective = tf.reduce_mean(cross_entropy)*100"
   ]
  },
  {
   "cell_type": "code",
   "execution_count": 0,
   "metadata": {
    "colab": {
     "autoexec": {
      "startup": false,
      "wait_interval": 0
     }
    },
    "colab_type": "code",
    "collapsed": true,
    "id": "8Zp6xkS6PMRN"
   },
   "outputs": [],
   "source": [
    "learning_rate = 0.001\n",
    "\n",
    "training = tf.train.GradientDescentOptimizer(\n",
    "    learning_rate).minimize(loss_objective)"
   ]
  },
  {
   "cell_type": "code",
   "execution_count": 0,
   "metadata": {
    "colab": {
     "autoexec": {
      "startup": false,
      "wait_interval": 0
     }
    },
    "colab_type": "code",
    "collapsed": true,
    "id": "b_A6oQoZq-VK"
   },
   "outputs": [],
   "source": [
    "is_correct = tf.equal(tf.argmax(Y,1), tf.argmax(Y_,1))\n",
    "\n",
    "accuracy = tf.reduce_mean(tf.cast(is_correct, tf.float32))"
   ]
  },
  {
   "cell_type": "code",
   "execution_count": 12,
   "metadata": {
    "colab": {
     "autoexec": {
      "startup": false,
      "wait_interval": 0
     },
     "base_uri": "https://localhost:8080/",
     "height": 807,
     "output_extras": [
      {
       "item_id": 27
      }
     ]
    },
    "colab_type": "code",
    "executionInfo": {
     "elapsed": 14643,
     "status": "ok",
     "timestamp": 1521367756285,
     "user": {
      "displayName": "Avinash Selvam",
      "photoUrl": "//lh6.googleusercontent.com/-OWw3sMItg1E/AAAAAAAAAAI/AAAAAAAAAh4/CZwfXx18yUg/s50-c-k-no/photo.jpg",
      "userId": "106485937356478174490"
     },
     "user_tz": -330
    },
    "id": "YcJNlKpirsnS",
    "outputId": "3821e2be-7a47-461e-acef-c22f0530d356"
   },
   "outputs": [
    {
     "name": "stdout",
     "output_type": "stream",
     "text": [
      "\n",
      "Epoch : 1\n",
      "\n",
      "0 Training Accuracy : 0.09000000357627869 | Loss : 230.72386169433594\n",
      "100 Training Accuracy : 0.9100000262260437 | Loss : 23.432987213134766\n",
      "200 Training Accuracy : 0.9700000286102295 | Loss : 15.549623489379883\n",
      "300 Training Accuracy : 0.9800000190734863 | Loss : 4.88357400894165\n",
      "400 Training Accuracy : 1.0 | Loss : 4.831546783447266\n",
      "500 Training Accuracy : 0.9900000095367432 | Loss : 3.250980854034424\n",
      "\n",
      "Epoch : 2\n",
      "\n",
      "0 Training Accuracy : 0.9900000095367432 | Loss : 3.1790456771850586\n",
      "100 Training Accuracy : 1.0 | Loss : 2.2342658042907715\n",
      "200 Training Accuracy : 0.9900000095367432 | Loss : 2.94486927986145\n",
      "300 Training Accuracy : 1.0 | Loss : 2.9101932048797607\n",
      "400 Training Accuracy : 0.9900000095367432 | Loss : 3.389744520187378\n",
      "500 Training Accuracy : 1.0 | Loss : 1.1675102710723877\n",
      "\n",
      "Epoch : 3\n",
      "\n",
      "0 Training Accuracy : 0.9800000190734863 | Loss : 6.132957935333252\n",
      "100 Training Accuracy : 1.0 | Loss : 1.1962836980819702\n",
      "200 Training Accuracy : 1.0 | Loss : 1.7145755290985107\n",
      "300 Training Accuracy : 0.9900000095367432 | Loss : 2.203922748565674\n",
      "400 Training Accuracy : 1.0 | Loss : 1.6431407928466797\n",
      "500 Training Accuracy : 1.0 | Loss : 1.2255125045776367\n",
      "\n",
      "Epoch : 4\n",
      "\n",
      "0 Training Accuracy : 0.9900000095367432 | Loss : 2.8778159618377686\n",
      "100 Training Accuracy : 1.0 | Loss : 0.9480134844779968\n",
      "200 Training Accuracy : 1.0 | Loss : 0.4046200215816498\n",
      "300 Training Accuracy : 0.9800000190734863 | Loss : 2.413910388946533\n",
      "400 Training Accuracy : 1.0 | Loss : 1.024740219116211\n",
      "500 Training Accuracy : 0.9900000095367432 | Loss : 2.3180315494537354\n",
      "\n",
      "Epoch : 5\n",
      "\n",
      "0 Training Accuracy : 1.0 | Loss : 0.917784571647644\n",
      "100 Training Accuracy : 1.0 | Loss : 1.3640785217285156\n",
      "200 Training Accuracy : 0.9900000095367432 | Loss : 1.9262890815734863\n",
      "300 Training Accuracy : 1.0 | Loss : 0.758085310459137\n",
      "400 Training Accuracy : 1.0 | Loss : 1.5455034971237183\n",
      "500 Training Accuracy : 0.9900000095367432 | Loss : 2.533975601196289\n",
      "\n",
      "Validation Accuracy : 0.9846000075340271 | Loss : 5.334902763366699\n"
     ]
    }
   ],
   "source": [
    "init = tf.global_variables_initializer()\n",
    "\n",
    "epochs = 5\n",
    "iterations = 500\n",
    "\n",
    "train_err = []\n",
    "train_acc = []\n",
    "\n",
    "test_accuracy, test_loss = 0, 99999\n",
    "\n",
    "with tf.Session() as sess:\n",
    "  \n",
    "  sess.run(init)\n",
    "  \n",
    "  for epoch in range(epochs):\n",
    "    \n",
    "    print('\\nEpoch : {0}\\n'.format(epoch+1))\n",
    "    \n",
    "    for i in range(iterations+1):\n",
    "          \n",
    "      batch_X, batch_Y = mnist.train.next_batch(100)\n",
    "      batch_X = np.reshape(batch_X, (-1, 28, 28, 1))\n",
    "      step = sess.run(training, feed_dict={X: batch_X, Y: batch_Y})\n",
    "      \n",
    "      if i % 100 == 0:\n",
    "\n",
    "        train_accuracy, new_err = sess.run([accuracy, loss_objective],\n",
    "                                           feed_dict={X: batch_X, Y: batch_Y})  \n",
    "        \n",
    "        train_acc.append(train_accuracy); train_err.append(new_err)\n",
    "        \n",
    "        print('{2} Training Accuracy : {0} | Loss : {1}'.format(train_accuracy,\n",
    "                                                                new_err, i))\n",
    "        \n",
    "  \n",
    "  batch_X, batch_Y = mnist.validation.images, mnist.validation.labels\n",
    "  batch_X = np.reshape(batch_X, (-1, 28, 28, 1))\n",
    "\n",
    "  val_accuracy, val_loss = sess.run([accuracy, loss_objective],\n",
    "                                    feed_dict={X: batch_X, Y: batch_Y})\n",
    "  \n",
    "  print('\\nValidation Accuracy : {0} | Loss : {1}'.format(val_accuracy,\n",
    "                                                          val_loss))\n",
    "\n",
    "  batch_X, batch_Y = mnist.test.images, mnist.test.labels\n",
    "  batch_X = np.reshape(batch_X, (-1, 28, 28, 1))\n",
    "\n",
    "  test_accuracy, test_loss = sess.run([accuracy, loss_objective],\n",
    "                                      feed_dict={X: batch_X, Y: batch_Y})  "
   ]
  },
  {
   "cell_type": "code",
   "execution_count": 13,
   "metadata": {
    "colab": {
     "autoexec": {
      "startup": false,
      "wait_interval": 0
     },
     "base_uri": "https://localhost:8080/",
     "height": 362,
     "output_extras": [
      {
       "item_id": 1
      }
     ]
    },
    "colab_type": "code",
    "executionInfo": {
     "elapsed": 832,
     "status": "ok",
     "timestamp": 1521367757136,
     "user": {
      "displayName": "Avinash Selvam",
      "photoUrl": "//lh6.googleusercontent.com/-OWw3sMItg1E/AAAAAAAAAAI/AAAAAAAAAh4/CZwfXx18yUg/s50-c-k-no/photo.jpg",
      "userId": "106485937356478174490"
     },
     "user_tz": -330
    },
    "id": "orbEx452jh8W",
    "outputId": "5ffa47a3-a1c6-47e7-96b5-1360b40ccb2d"
   },
   "outputs": [
    {
     "data": {
      "image/png": "[encoded data removed]",
      "text/plain": [
       "<matplotlib.figure.Figure at 0x7efbdba278d0>"
      ]
     },
     "metadata": {
      "tags": []
     },
     "output_type": "display_data"
    }
   ],
   "source": [
    "plt.plot(range(len(train_err)), train_err, color='red')\n",
    "plt.title('Training error vs iterations')\n",
    "plt.show()"
   ]
  },
  {
   "cell_type": "code",
   "execution_count": 14,
   "metadata": {
    "colab": {
     "autoexec": {
      "startup": false,
      "wait_interval": 0
     },
     "base_uri": "https://localhost:8080/",
     "height": 362,
     "output_extras": [
      {
       "item_id": 1
      }
     ]
    },
    "colab_type": "code",
    "executionInfo": {
     "elapsed": 976,
     "status": "ok",
     "timestamp": 1521367758221,
     "user": {
      "displayName": "Avinash Selvam",
      "photoUrl": "//lh6.googleusercontent.com/-OWw3sMItg1E/AAAAAAAAAAI/AAAAAAAAAh4/CZwfXx18yUg/s50-c-k-no/photo.jpg",
      "userId": "106485937356478174490"
     },
     "user_tz": -330
    },
    "id": "6i0GM-Zcj0_m",
    "outputId": "d5aab3ee-8251-4c8a-b797-5ad85a51db40"
   },
   "outputs": [
    {
     "data": {
      "image/png": "[encoded data removed]",
      "text/plain": [
       "<matplotlib.figure.Figure at 0x7efbdb7a2b00>"
      ]
     },
     "metadata": {
      "tags": []
     },
     "output_type": "display_data"
    }
   ],
   "source": [
    "plt.plot(range(len(train_acc)), train_acc, color='blue')\n",
    "plt.title('Training Accuracy vs iterations')\n",
    "plt.show()"
   ]
  },
  {
   "cell_type": "code",
   "execution_count": 15,
   "metadata": {
    "colab": {
     "autoexec": {
      "startup": false,
      "wait_interval": 0
     },
     "base_uri": "https://localhost:8080/",
     "height": 67,
     "output_extras": [
      {
       "item_id": 1
      }
     ]
    },
    "colab_type": "code",
    "executionInfo": {
     "elapsed": 642,
     "status": "ok",
     "timestamp": 1521367758926,
     "user": {
      "displayName": "Avinash Selvam",
      "photoUrl": "//lh6.googleusercontent.com/-OWw3sMItg1E/AAAAAAAAAAI/AAAAAAAAAh4/CZwfXx18yUg/s50-c-k-no/photo.jpg",
      "userId": "106485937356478174490"
     },
     "user_tz": -330
    },
    "id": "5XK9xq8vRj0W",
    "outputId": "08a2a47a-c204-4732-8097-93b675a4f602"
   },
   "outputs": [
    {
     "name": "stdout",
     "output_type": "stream",
     "text": [
      "\n",
      "Test Accuracy : 0.9833999872207642 \n",
      "Test Loss : 4.8419623374938965\n"
     ]
    }
   ],
   "source": [
    "  print('\\nTest Accuracy : {0} \\nTest Loss : {1}'.format(test_accuracy,\n",
    "                                                         test_loss))"
   ]
  }
 ],
 "metadata": {
  "accelerator": "GPU",
  "colab": {
   "default_view": {},
   "name": "LeNet.ipynb",
   "provenance": [],
   "version": "0.3.2",
   "views": {}
  },
  "kernelspec": {
   "display_name": "Python 3",
   "language": "python",
   "name": "python3"
  },
  "language_info": {
   "codemirror_mode": {
    "name": "ipython",
    "version": 3
   },
   "file_extension": ".py",
   "mimetype": "text/x-python",
   "name": "python",
   "nbconvert_exporter": "python",
   "pygments_lexer": "ipython3",
   "version": "3.6.3"
  }
 },
 "nbformat": 4,
 "nbformat_minor": 1
}
