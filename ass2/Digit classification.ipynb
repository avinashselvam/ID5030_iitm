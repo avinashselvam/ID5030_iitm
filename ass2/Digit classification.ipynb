{
 "cells": [
  {
   "cell_type": "markdown",
   "metadata": {},
   "source": [
    "## 2. Digit Classification"
   ]
  },
  {
   "cell_type": "code",
   "execution_count": 1,
   "metadata": {},
   "outputs": [],
   "source": [
    "import numpy as np\n",
    "import matplotlib.pyplot as plt\n",
    "import pandas as pd\n",
    "import gzip\n",
    "\n",
    "% matplotlib inline"
   ]
  },
  {
   "cell_type": "code",
   "execution_count": 31,
   "metadata": {},
   "outputs": [],
   "source": [
    "def sigmoid(z):\n",
    "    return np.array([min(0.99,max(0.01, 1/(1+np.exp(-i)))) for i in z])\n",
    "\n",
    "def quantise(g):\n",
    "    return np.array([int(i>=0.5) for i in g])\n",
    "\n",
    "def sgd_for_log_reg(W, x, y, learning_rate = 0.5, iteration = 50):\n",
    "    error = []\n",
    "    xT = np.transpose(x)\n",
    "    for i in range(1000):\n",
    "        z = np.matmul(W,xT)\n",
    "        y_ = sigmoid(z)\n",
    "        cross_entropy = np.mean(-y*np.log(y_) - (1-y)*np.log(1-y_))\n",
    "        error.append(cross_entropy)\n",
    "        dL_dw = np.array([(y[i] - y_[i])*xj[i] for xj in xT])\n",
    "        W += learning_rate*dL_dw\n",
    "        \n",
    "    return W, error\n",
    "\n",
    "def plot_error(error):\n",
    "    plt.plot(range(len(error)),error, color=\"red\")\n",
    "    plt.title(\"error vs iteration\")\n",
    "    plt.show()\n",
    "\n",
    "def get_01(x,y):\n",
    "    a, b = [], []\n",
    "    for x,y in zip(x,y):\n",
    "        if y in [0,1]:\n",
    "            a.append(x)\n",
    "            b.append(y)\n",
    "    return np.array(a), np.array(b)"
   ]
  },
  {
   "cell_type": "code",
   "execution_count": 3,
   "metadata": {},
   "outputs": [],
   "source": [
    "\"\"\"\n",
    "Used with edits from Git. Don't have experience in file I/O\n",
    "https://gist.github.com/\n",
    "ischlag/41d15424e7989b936c1609b53edd1390#file-mnist-to-jpg-py-L43\n",
    "\"\"\"\n",
    "\n",
    "def get_images(filename, no_of_imgs):\n",
    "\n",
    "    with gzip.open(filename) as bytestream:\n",
    "        bytestream.read(16)\n",
    "        to_buffer = bytestream.read(28 * 28 * no_of_imgs)\n",
    "        vectorised = np.frombuffer(to_buffer, dtype = np.uint8).astype(np.float32).reshape(no_of_imgs, 784)\n",
    "    return vectorised\n",
    "\n",
    "def get_labels(filename, no_of_labels):\n",
    "\n",
    "    with gzip.open(filename) as bytestream:\n",
    "        bytestream.read(8)\n",
    "        to_buffer = bytestream.read(1 * no_of_labels)\n",
    "        labels = np.frombuffer(to_buffer, dtype = np.uint8).astype(np.int64)\n",
    "    return labels"
   ]
  },
  {
   "cell_type": "code",
   "execution_count": 4,
   "metadata": {},
   "outputs": [],
   "source": [
    "X_train, X_train_vec = get_images(\"train-images-idx3-ubyte.gz\",60000)\n",
    "y_train = get_labels(\"train-labels-idx1-ubyte.gz\",60000)\n",
    "\n",
    "X_test, X_test_vec = get_images(\"t10k-images-idx3-ubyte.gz\",10000)\n",
    "y_test = get_labels(\"t10k-labels-idx1-ubyte.gz\",10000)"
   ]
  },
  {
   "cell_type": "code",
   "execution_count": 5,
   "metadata": {},
   "outputs": [
    {
     "data": {
      "image/png": "[encoded data removed]",
      "text/plain": [
       "<matplotlib.figure.Figure at 0x107584710>"
      ]
     },
     "metadata": {},
     "output_type": "display_data"
    }
   ],
   "source": [
    "plt.matshow(X_train[0], cmap = plt.cm.gray)\n",
    "plt.show()"
   ]
  },
  {
   "cell_type": "code",
   "execution_count": 21,
   "metadata": {},
   "outputs": [
    {
     "name": "stdout",
     "output_type": "stream",
     "text": [
      "No. of training examples : 12665\n",
      "No. of testing examples : 2115\n"
     ]
    }
   ],
   "source": [
    "no_train = len(y_train[y_train==0]) + len(y_train[y_train==1])\n",
    "no_test = len(y_test[y_test==0]) + len(y_test[y_test==1])\n",
    "\n",
    "print(\"No. of training examples : \"+str(no_train))\n",
    "print(\"No. of testing examples : \"+str(no_test))"
   ]
  },
  {
   "cell_type": "code",
   "execution_count": 7,
   "metadata": {},
   "outputs": [],
   "source": [
    "X_train, y_train = get_01(X_train_vec, y_train)\n",
    "X_test, y_test = get_01(X_test_vec, y_test)"
   ]
  },
  {
   "cell_type": "code",
   "execution_count": 8,
   "metadata": {},
   "outputs": [
    {
     "name": "stdout",
     "output_type": "stream",
     "text": [
      "label : 0\n"
     ]
    },
    {
     "data": {
      "image/png": "[encoded data removed]",
      "text/plain": [
       "<matplotlib.figure.Figure at 0x103c9f390>"
      ]
     },
     "metadata": {},
     "output_type": "display_data"
    }
   ],
   "source": [
    "print(\"label : \" + str(y_train[0]))\n",
    "\n",
    "plt.matshow(X_train[0].reshape(28,28), cmap = plt.cm.gray)\n",
    "plt.show()"
   ]
  },
  {
   "cell_type": "code",
   "execution_count": 9,
   "metadata": {},
   "outputs": [],
   "source": [
    "W = np.random.randn(784)"
   ]
  },
  {
   "cell_type": "code",
   "execution_count": 11,
   "metadata": {},
   "outputs": [
    {
     "name": "stderr",
     "output_type": "stream",
     "text": [
      "/Users/avinash/anaconda3/envs/datasci/lib/python2.7/site-packages/ipykernel_launcher.py:2: RuntimeWarning: overflow encountered in exp\n",
      "  \n"
     ]
    }
   ],
   "source": [
    "W, error = sgd_for_log_reg(W, X_train, y_train, 1, 1000)"
   ]
  },
  {
   "cell_type": "code",
   "execution_count": 12,
   "metadata": {},
   "outputs": [
    {
     "data": {
      "image/png": "[encoded data removed]",
      "text/plain": [
       "<matplotlib.figure.Figure at 0x102170490>"
      ]
     },
     "metadata": {},
     "output_type": "display_data"
    }
   ],
   "source": [
    "plot_error(error)"
   ]
  },
  {
   "cell_type": "code",
   "execution_count": 13,
   "metadata": {},
   "outputs": [],
   "source": [
    "f = quantise(y_) == y"
   ]
  },
  {
   "cell_type": "code",
   "execution_count": 19,
   "metadata": {},
   "outputs": [
    {
     "name": "stdout",
     "output_type": "stream",
     "text": [
      "train_sccuracy : 0.997315436242\n"
     ]
    }
   ],
   "source": [
    "train_accuracy = len(f[f==True])/(1.0*len(f))\n",
    "print(\"train_sccuracy : \" + str(train_accuracy))"
   ]
  },
  {
   "cell_type": "code",
   "execution_count": 15,
   "metadata": {},
   "outputs": [
    {
     "name": "stderr",
     "output_type": "stream",
     "text": [
      "/Users/avinash/anaconda3/envs/datasci/lib/python2.7/site-packages/ipykernel_launcher.py:2: RuntimeWarning: overflow encountered in exp\n",
      "  \n"
     ]
    }
   ],
   "source": [
    "y_2 = sigmoid(np.matmul(W,np.transpose(X_test)))"
   ]
  },
  {
   "cell_type": "code",
   "execution_count": 16,
   "metadata": {},
   "outputs": [],
   "source": [
    "r = quantise(y_2) == y_test"
   ]
  },
  {
   "cell_type": "code",
   "execution_count": 18,
   "metadata": {},
   "outputs": [
    {
     "name": "stdout",
     "output_type": "stream",
     "text": [
      "test_sccuracy : 0.999527186761\n"
     ]
    }
   ],
   "source": [
    "test_accuracy = len(r[r==True])/(1.0*len(r))\n",
    "print(\"test_sccuracy : \" + str(test_accuracy))"
   ]
  },
  {
   "cell_type": "code",
   "execution_count": 29,
   "metadata": {},
   "outputs": [
    {
     "name": "stdout",
     "output_type": "stream",
     "text": [
      "min of X : 0.0\n",
      "max of X : 1.0\n"
     ]
    }
   ],
   "source": [
    "# Normalising the data\n",
    "\n",
    "X_train_n = X_train/255.0\n",
    "print(\"min of X : \"+str(np.min(X_train_n)))\n",
    "print(\"max of X : \"+str(np.max(X_train_n)))"
   ]
  },
  {
   "cell_type": "code",
   "execution_count": 32,
   "metadata": {},
   "outputs": [],
   "source": [
    "W_n = np.random.randn(784)\n",
    "W_n, error_n = sgd_for_log_reg(W_n, X_train_n, y_train, 1, 1000)"
   ]
  },
  {
   "cell_type": "code",
   "execution_count": 33,
   "metadata": {},
   "outputs": [
    {
     "data": {
      "image/png": "[encoded data removed]",
      "text/plain": [
       "<matplotlib.figure.Figure at 0x1053e1810>"
      ]
     },
     "metadata": {},
     "output_type": "display_data"
    }
   ],
   "source": [
    "plot_error(error_n)"
   ]
  },
  {
   "cell_type": "code",
   "execution_count": 38,
   "metadata": {},
   "outputs": [],
   "source": [
    "y_n = sigmoid(np.matmul(W_n,np.transpose(X_train_n)))\n",
    "\n",
    "f_n = quantise(y_n) == y"
   ]
  },
  {
   "cell_type": "code",
   "execution_count": 39,
   "metadata": {},
   "outputs": [
    {
     "name": "stdout",
     "output_type": "stream",
     "text": [
      "Normalised train_sccuracy : 0.997236478484\n"
     ]
    }
   ],
   "source": [
    "train_accuracy_n = len(f_n[f_n==True])/(1.0*len(f_n))\n",
    "print(\"Normalised train_sccuracy : \" + str(train_accuracy_n))"
   ]
  },
  {
   "cell_type": "code",
   "execution_count": 42,
   "metadata": {},
   "outputs": [],
   "source": [
    "y_2n = sigmoid(np.matmul(W_n,np.transpose(X_test/255.0)))\n",
    "\n",
    "r_n = quantise(y_2n) == y_test"
   ]
  },
  {
   "cell_type": "code",
   "execution_count": 43,
   "metadata": {},
   "outputs": [
    {
     "name": "stdout",
     "output_type": "stream",
     "text": [
      "test_sccuracy : 0.999527186761\n"
     ]
    }
   ],
   "source": [
    "test_accuracy_n = len(r_n[r_n==True])/(1.0*len(r_n))\n",
    "print(\"test_sccuracy : \" + str(test_accuracy_n))"
   ]
  },
  {
   "cell_type": "markdown",
   "metadata": {},
   "source": [
    "#### Why you are sure your code works. That is, what test cases did you use and why are they general? "
   ]
  },
  {
   "cell_type": "markdown",
   "metadata": {},
   "source": [
    "We can see the error has saturated well and both training and testing accuracy tend to 100. Test cases were provided separately and is beleived to be picked random enough to truly represent the dataset."
   ]
  },
  {
   "cell_type": "markdown",
   "metadata": {},
   "source": [
    "#### Accuracies and code can been seen above"
   ]
  },
  {
   "cell_type": "code",
   "execution_count": null,
   "metadata": {},
   "outputs": [],
   "source": []
  }
 ],
 "metadata": {
  "kernelspec": {
   "display_name": "Python 2",
   "language": "python",
   "name": "python2"
  },
  "language_info": {
   "codemirror_mode": {
    "name": "ipython",
    "version": 2
   },
   "file_extension": ".py",
   "mimetype": "text/x-python",
   "name": "python",
   "nbconvert_exporter": "python",
   "pygments_lexer": "ipython2",
   "version": "2.7.14"
  }
 },
 "nbformat": 4,
 "nbformat_minor": 2
}
