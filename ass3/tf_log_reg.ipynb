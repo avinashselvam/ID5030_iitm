{
 "cells": [
  {
   "cell_type": "markdown",
   "metadata": {},
   "source": [
    "# Logistic Regression and Classification using TensorFlow"
   ]
  },
  {
   "cell_type": "code",
   "execution_count": 1,
   "metadata": {},
   "outputs": [],
   "source": [
    "import numpy as np\n",
    "import pandas as pd\n",
    "import tensorflow as tf\n",
    "import matplotlib.pyplot as plt\n",
    "\n",
    "%matplotlib inline"
   ]
  },
  {
   "cell_type": "code",
   "execution_count": 2,
   "metadata": {},
   "outputs": [],
   "source": [
    "train = pd.read_csv('30_train_features.csv')\n",
    "test = pd.read_csv('30_test_features.csv')\n",
    "\n",
    "train = train.sample(frac=1)\n",
    "test = test.sample(frac=1)"
   ]
  },
  {
   "cell_type": "code",
   "execution_count": 3,
   "metadata": {},
   "outputs": [],
   "source": [
    "X_train = train[train.columns.difference(['OS'])].values\n",
    "y_train = train['OS'].values\n",
    "\n",
    "X_test = test[test.columns.difference(['OS'])].values\n",
    "y_test = test['OS'].values"
   ]
  },
  {
   "cell_type": "markdown",
   "metadata": {},
   "source": [
    "### Task 1 Binary classification"
   ]
  },
  {
   "cell_type": "code",
   "execution_count": 4,
   "metadata": {},
   "outputs": [],
   "source": [
    "threshold = 300\n",
    "y_train = np.array([int(i >= threshold) for i in y_train]).reshape((len(y_train),1))\n",
    "y_test = np.array([int(i >= threshold) for i in y_test]).reshape((len(y_test),1))"
   ]
  },
  {
   "cell_type": "code",
   "execution_count": 5,
   "metadata": {},
   "outputs": [],
   "source": [
    "mean = np.mean(X_train, axis=0)\n",
    "std = np.std(X_train, axis=0)\n",
    "\n",
    "X_train = [(row - mean)*(std**-1) for row in X_train]\n",
    "X_train = np.column_stack((X_train, np.ones(len(X_train))))\n",
    "\n",
    "mean = np.mean(X_test, axis=0)\n",
    "std = np.std(X_test, axis=0)\n",
    "\n",
    "X_test = [(row - mean)*(std**-1) for row in X_test]\n",
    "X_test = np.column_stack((X_test, np.ones(len(X_test))))"
   ]
  },
  {
   "cell_type": "code",
   "execution_count": 6,
   "metadata": {},
   "outputs": [
    {
     "name": "stdout",
     "output_type": "stream",
     "text": [
      "Input has 31 features including 1 bias feature\n"
     ]
    }
   ],
   "source": [
    "num_features = X_train.shape[1]\n",
    "print(\"Input has %.0f features including 1 bias feature\"%num_features)"
   ]
  },
  {
   "cell_type": "code",
   "execution_count": 7,
   "metadata": {},
   "outputs": [],
   "source": [
    "X = tf.placeholder(tf.float32, [None, num_features], name='X')\n",
    "y = tf.placeholder(tf.float32, [None, 1], name='y')"
   ]
  },
  {
   "cell_type": "code",
   "execution_count": 8,
   "metadata": {},
   "outputs": [],
   "source": [
    "weights = tf.Variable(tf.random_normal([num_features,1],\n",
    "                                    mean=0.0,\n",
    "                                    stddev=0.1,\n",
    "                                    dtype=tf.float32,\n",
    "                                    seed=2018,\n",
    "                                    name='weights'\n",
    "                                ))"
   ]
  },
  {
   "cell_type": "code",
   "execution_count": 9,
   "metadata": {},
   "outputs": [],
   "source": [
    "z = tf.matmul(X, weights, name='matrix_mul')"
   ]
  },
  {
   "cell_type": "code",
   "execution_count": 10,
   "metadata": {},
   "outputs": [],
   "source": [
    "iterations = 10000\n",
    "# learning_rate = 0.01\n",
    "learning_rate = tf.train.exponential_decay(learning_rate=0.02,\n",
    "                                           global_step=1,\n",
    "                                           decay_steps=len(X_train),\n",
    "                                           decay_rate=0.95,\n",
    "                                           staircase=True)\n",
    "\n",
    "predictions = tf.round(tf.nn.sigmoid(z))\n",
    "\n",
    "loss = tf.reduce_sum(tf.nn.sigmoid_cross_entropy_with_logits(labels=y, logits=z))\n",
    "\n",
    "optimiser = tf.train.AdamOptimizer(learning_rate)\n",
    "training = optimiser.minimize(loss)\n",
    "\n",
    "accuracy = tf.reduce_mean(tf.cast(tf.equal(predictions, y), 'float'))\n",
    "\n",
    "init = tf.global_variables_initializer()"
   ]
  },
  {
   "cell_type": "code",
   "execution_count": 11,
   "metadata": {},
   "outputs": [
    {
     "name": "stdout",
     "output_type": "stream",
     "text": [
      "Training error at '0' iteration : 65.583786\n",
      "Training error at '10' iteration : 54.164555\n",
      "Training error at '20' iteration : 49.691376\n",
      "Training error at '50' iteration : 44.597794\n",
      "Training error at '100' iteration : 41.272640\n",
      "Training error at '200' iteration : 38.825741\n",
      "Training error at '500' iteration : 37.532749\n",
      "Training error at '1000' iteration : 37.480042\n",
      "Training error at '5000' iteration : 37.479954\n",
      "Training error at '9999' iteration : 37.479980\n",
      "\n",
      "Training accuaracy : 0.83\n",
      "Testing accuaracy : 0.73\n"
     ]
    }
   ],
   "source": [
    "with tf.Session() as sess:\n",
    "    error = []\n",
    "    sess.run(init)\n",
    "    for iteration in range(iterations):\n",
    "        _, new_weights, new_error = sess.run([training, weights, loss], feed_dict={X: X_train, y: y_train})\n",
    "        error.append(new_error)\n",
    "        if iteration in [0, 10, 20, 50, 100, 200, 500, 1000, 5000, 9999]:\n",
    "            print(\"Training error at '%.0f' iteration : %.6f\"%(iteration, new_error))\n",
    "        \n",
    "    print(\"\\nTraining accuaracy : %.2f\"%sess.run(accuracy, feed_dict={X: X_train, y: y_train}))\n",
    "    print(\"Testing accuaracy : %.2f\"%sess.run(accuracy, feed_dict={X: X_test, y: y_test}))"
   ]
  },
  {
   "cell_type": "code",
   "execution_count": 12,
   "metadata": {},
   "outputs": [],
   "source": [
    "def plot_error(error):\n",
    "    plt.plot(range(len(error)),error, color=\"red\")\n",
    "    plt.title(\"error vs iteration\")\n",
    "    plt.show()"
   ]
  },
  {
   "cell_type": "code",
   "execution_count": 13,
   "metadata": {},
   "outputs": [
    {
     "data": {
      "image/png": "[encoded data removed]",
      "text/plain": [
       "<matplotlib.figure.Figure at 0x1812635ed0>"
      ]
     },
     "metadata": {},
     "output_type": "display_data"
    }
   ],
   "source": [
    "plot_error(error)"
   ]
  },
  {
   "cell_type": "markdown",
   "metadata": {},
   "source": [
    "### <br>"
   ]
  },
  {
   "cell_type": "markdown",
   "metadata": {},
   "source": [
    "### Task 2 Multiclass Classification"
   ]
  },
  {
   "cell_type": "code",
   "execution_count": 14,
   "metadata": {},
   "outputs": [],
   "source": [
    "y_train = train['OS'].values\n",
    "y_test = test['OS'].values"
   ]
  },
  {
   "cell_type": "code",
   "execution_count": 15,
   "metadata": {},
   "outputs": [],
   "source": [
    "labels = [[1, 0, 0], [0, 1, 0], [0, 0, 1]]\n",
    "\n",
    "y_train = np.array([labels[0] if i < 300 else labels[1] if i < 450 else labels[2] for i in y_train])\n",
    "y_test = np.array([labels[0] if i < 300 else labels[1] if i < 450 else labels[2] for i in y_test])"
   ]
  },
  {
   "cell_type": "code",
   "execution_count": 16,
   "metadata": {},
   "outputs": [],
   "source": [
    "X = tf.placeholder(tf.float32, [None, num_features], name='X')\n",
    "y = tf.placeholder(tf.int64, [None, 3], name='y')"
   ]
  },
  {
   "cell_type": "code",
   "execution_count": 17,
   "metadata": {},
   "outputs": [],
   "source": [
    "weights = tf.Variable(tf.random_normal([num_features,3],\n",
    "                                    mean=0.0,\n",
    "                                    stddev=0.1,\n",
    "                                    dtype=tf.float32,\n",
    "                                    seed=2018,\n",
    "                                    name='weights'\n",
    "                                ))"
   ]
  },
  {
   "cell_type": "code",
   "execution_count": 18,
   "metadata": {},
   "outputs": [],
   "source": [
    "z = tf.nn.softmax(tf.matmul(X, weights, name='matrix_mul'))\n",
    "# y_ = tf.reshape(tf.reduce_max(z, axis=1)"
   ]
  },
  {
   "cell_type": "code",
   "execution_count": 19,
   "metadata": {},
   "outputs": [],
   "source": [
    "predictions = tf.argmax(z, axis=1)\n",
    "\n",
    "reg = 0.7\n",
    "loss = tf.reduce_sum(tf.nn.softmax_cross_entropy_with_logits(labels=y, logits=z) + reg*tf.nn.l2_loss(weights))\n",
    "\n",
    "optimiser = tf.train.AdamOptimizer(learning_rate)\n",
    "training = optimiser.minimize(loss)\n",
    "\n",
    "accuracy = tf.reduce_mean(tf.cast(tf.equal(predictions, tf.argmax(y, axis=1)), 'float'))\n",
    "\n",
    "init = tf.global_variables_initializer()"
   ]
  },
  {
   "cell_type": "code",
   "execution_count": 20,
   "metadata": {},
   "outputs": [
    {
     "name": "stdout",
     "output_type": "stream",
     "text": [
      "Training error at '0' iteration : 143.534744\n",
      "Training error at '10' iteration : 107.181587\n",
      "Training error at '20' iteration : 106.928375\n",
      "Training error at '50' iteration : 105.052986\n",
      "Training error at '100' iteration : 105.000336\n",
      "Training error at '200' iteration : 104.999931\n",
      "Training error at '500' iteration : 104.999939\n",
      "Training error at '1000' iteration : 104.999939\n",
      "Training error at '5000' iteration : 104.999985\n",
      "Training error at '9999' iteration : 105.001984\n",
      "\n",
      "Training accuaracy : 0.58\n",
      "Testing accuaracy : 0.45\n"
     ]
    }
   ],
   "source": [
    "with tf.Session() as sess:\n",
    "    error = []\n",
    "    sess.run(init)\n",
    "    \n",
    "    for iteration in range(iterations):\n",
    "        _, new_weights, new_error = sess.run([training, weights, loss], feed_dict={X: X_train, y: y_train})\n",
    "        error.append(new_error)\n",
    "        if iteration in [0, 10, 20, 50, 100, 200, 500, 1000, 5000, 9999]:\n",
    "            print(\"Training error at '%.0f' iteration : %.6f\"%(iteration, new_error))\n",
    "        \n",
    "    print(\"\\nTraining accuaracy : %.2f\"%sess.run(accuracy, feed_dict={X: X_train, y: y_train}))\n",
    "    print(\"Testing accuaracy : %.2f\"%sess.run(accuracy, feed_dict={X: X_test, y: y_test}))"
   ]
  },
  {
   "cell_type": "code",
   "execution_count": 21,
   "metadata": {},
   "outputs": [
    {
     "data": {
      "image/png": "[encoded data removed]",
      "text/plain": [
       "<matplotlib.figure.Figure at 0x18126358d0>"
      ]
     },
     "metadata": {},
     "output_type": "display_data"
    }
   ],
   "source": [
    "plot_error(error)"
   ]
  },
  {
   "cell_type": "markdown",
   "metadata": {},
   "source": [
    "### <br>Linear Regression"
   ]
  },
  {
   "cell_type": "code",
   "execution_count": 22,
   "metadata": {},
   "outputs": [],
   "source": [
    "y_train = train['OS'].values.reshape(98 ,1)\n",
    "y_test = test['OS'].values.reshape(33 ,1)"
   ]
  },
  {
   "cell_type": "code",
   "execution_count": 23,
   "metadata": {},
   "outputs": [],
   "source": [
    "X = tf.placeholder(tf.float32, [None, num_features], name='X')\n",
    "y = tf.placeholder(tf.float32, [None, 1], name='y')\n",
    "col = tf.placeholder(tf.float32, [None, 1], name='column')"
   ]
  },
  {
   "cell_type": "code",
   "execution_count": 24,
   "metadata": {},
   "outputs": [],
   "source": [
    "weights = tf.Variable(tf.random_normal([num_features,1],\n",
    "                                    mean=0.0,\n",
    "                                    stddev=0.1,\n",
    "                                    dtype=tf.float32,\n",
    "                                    seed=2018,\n",
    "                                    name='weights'\n",
    "                                ))"
   ]
  },
  {
   "cell_type": "code",
   "execution_count": 25,
   "metadata": {},
   "outputs": [],
   "source": [
    "z = tf.matmul(X, weights, name='matrix_mul')"
   ]
  },
  {
   "cell_type": "code",
   "execution_count": 26,
   "metadata": {},
   "outputs": [],
   "source": [
    "loss = tf.nn.l2_loss(z - y)"
   ]
  },
  {
   "cell_type": "code",
   "execution_count": 27,
   "metadata": {},
   "outputs": [],
   "source": [
    "learning_rate = 1\n",
    "\n",
    "optimiser = tf.train.AdamOptimizer(learning_rate)\n",
    "training = optimiser.minimize(loss)\n",
    "\n",
    "pearson_r = tf.contrib.metrics.streaming_pearson_correlation(col, y, name='Correlation')\n",
    "\n",
    "init = tf.group(tf.global_variables_initializer(), tf.local_variables_initializer())"
   ]
  },
  {
   "cell_type": "code",
   "execution_count": 35,
   "metadata": {},
   "outputs": [
    {
     "name": "stdout",
     "output_type": "stream",
     "text": [
      "Training error at '0' iteration : 15424342.000000\n",
      "Training error at '10' iteration : 13947186.000000\n",
      "Training error at '20' iteration : 12967051.000000\n",
      "Training error at '50' iteration : 10969852.000000\n",
      "Training error at '100' iteration : 8857433.000000\n",
      "Training error at '200' iteration : 6272620.500000\n",
      "Training error at '500' iteration : 3484116.750000\n",
      "Training error at '1000' iteration : 3157198.750000\n",
      "Training error at '5000' iteration : 3156060.250000\n",
      "Training error at '9999' iteration : 3156060.500000\n",
      "\n",
      "Training error : 3156060.00\n",
      "Test error : 2084341.00\n",
      "\n",
      "Correlation for column 1 : nan\n",
      "Correlation for column 2 : 0.129591\n",
      "Correlation for column 3 : 0.121943\n",
      "Correlation for column 4 : 0.031143\n",
      "Correlation for column 5 : -0.009869\n",
      "Correlation for column 6 : -0.058452\n",
      "Correlation for column 7 : -0.051310\n",
      "Correlation for column 8 : -0.039480\n",
      "Correlation for column 9 : -0.046744\n",
      "Correlation for column 10 : -0.033948\n",
      "Correlation for column 11 : -0.025579\n",
      "Correlation for column 12 : -0.035249\n",
      "Correlation for column 13 : -0.030932\n",
      "Correlation for column 14 : -0.035574\n",
      "Correlation for column 15 : -0.039726\n",
      "Correlation for column 16 : -0.040736\n",
      "Correlation for column 17 : -0.027899\n",
      "Correlation for column 18 : -0.034726\n",
      "Correlation for column 19 : -0.031966\n",
      "Correlation for column 20 : -0.034317\n",
      "Correlation for column 21 : -0.031637\n",
      "Correlation for column 22 : -0.036263\n",
      "Correlation for column 23 : -0.046257\n",
      "Correlation for column 24 : -0.044012\n",
      "Correlation for column 25 : -0.047494\n",
      "Correlation for column 26 : -0.042748\n",
      "Correlation for column 27 : -0.049215\n",
      "Correlation for column 28 : -0.054745\n",
      "Correlation for column 29 : -0.046938\n",
      "Correlation for column 30 : -0.047525\n"
     ]
    }
   ],
   "source": [
    "with tf.Session() as sess:\n",
    "    error = []\n",
    "    sess.run(init)\n",
    "    \n",
    "    for iteration in range(iterations):\n",
    "        _, new_weights, new_error = sess.run([training, weights, loss], feed_dict={X: X_train, y: y_train})\n",
    "        error.append(new_error)\n",
    "        if iteration in [0, 10, 20, 50, 100, 200, 500, 1000, 5000, 9999]:\n",
    "            print(\"Training error at '%.0f' iteration : %.6f\"%(iteration, new_error))\n",
    "        \n",
    "    print(\"\\nTraining error : %.2f\"%sess.run(loss, feed_dict={X: X_train, y: y_train}))\n",
    "    print(\"Test error : %.2f\\n\"%sess.run(loss, feed_dict={X: X_test, y: y_test}))\n",
    "    \n",
    "    for i in range(30):\n",
    "        print(\"Correlation for column %.0f : %.6f\"\n",
    "              % (i+1, sess.run(pearson_r, feed_dict={col: X_test.T[i].reshape(33, 1), y: y_test})[0]))            "
   ]
  },
  {
   "cell_type": "code",
   "execution_count": 36,
   "metadata": {},
   "outputs": [
    {
     "data": {
      "image/png": "[encoded data removed]",
      "text/plain": [
       "<matplotlib.figure.Figure at 0x181d796cd0>"
      ]
     },
     "metadata": {},
     "output_type": "display_data"
    }
   ],
   "source": [
    "plot_error(error)"
   ]
  }
 ],
 "metadata": {
  "kernelspec": {
   "display_name": "Python 2",
   "language": "python",
   "name": "python2"
  },
  "language_info": {
   "codemirror_mode": {
    "name": "ipython",
    "version": 2
   },
   "file_extension": ".py",
   "mimetype": "text/x-python",
   "name": "python",
   "nbconvert_exporter": "python",
   "pygments_lexer": "ipython2",
   "version": "2.7.14"
  }
 },
 "nbformat": 4,
 "nbformat_minor": 2
}
