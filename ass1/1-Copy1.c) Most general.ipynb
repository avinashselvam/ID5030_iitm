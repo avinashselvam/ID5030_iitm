{
 "cells": [
  {
   "cell_type": "code",
   "execution_count": 1,
   "metadata": {},
   "outputs": [],
   "source": [
    "import numpy as np\n",
    "import pandas as pd\n",
    "import matplotlib.pyplot as plt\n",
    "\n",
    "%matplotlib inline"
   ]
  },
  {
   "cell_type": "code",
   "execution_count": 2,
   "metadata": {},
   "outputs": [
    {
     "data": {
      "text/html": [
       "<div>\n",
       "<style scoped>\n",
       "    .dataframe tbody tr th:only-of-type {\n",
       "        vertical-align: middle;\n",
       "    }\n",
       "\n",
       "    .dataframe tbody tr th {\n",
       "        vertical-align: top;\n",
       "    }\n",
       "\n",
       "    .dataframe thead th {\n",
       "        text-align: right;\n",
       "    }\n",
       "</style>\n",
       "<table border=\"1\" class=\"dataframe\">\n",
       "  <thead>\n",
       "    <tr style=\"text-align: right;\">\n",
       "      <th></th>\n",
       "      <th>Regressor</th>\n",
       "      <th>Var1</th>\n",
       "      <th>Var2</th>\n",
       "      <th>Var3</th>\n",
       "      <th>Var4</th>\n",
       "      <th>Var5</th>\n",
       "      <th>Var6</th>\n",
       "      <th>Var7</th>\n",
       "    </tr>\n",
       "    <tr>\n",
       "      <th>Sl.No</th>\n",
       "      <th></th>\n",
       "      <th></th>\n",
       "      <th></th>\n",
       "      <th></th>\n",
       "      <th></th>\n",
       "      <th></th>\n",
       "      <th></th>\n",
       "      <th></th>\n",
       "    </tr>\n",
       "  </thead>\n",
       "  <tbody>\n",
       "    <tr>\n",
       "      <th>84</th>\n",
       "      <td>22.0</td>\n",
       "      <td>4</td>\n",
       "      <td>121.0</td>\n",
       "      <td>76.0</td>\n",
       "      <td>2511</td>\n",
       "      <td>18.0</td>\n",
       "      <td>72</td>\n",
       "      <td>2</td>\n",
       "    </tr>\n",
       "    <tr>\n",
       "      <th>259</th>\n",
       "      <td>19.2</td>\n",
       "      <td>6</td>\n",
       "      <td>231.0</td>\n",
       "      <td>105.0</td>\n",
       "      <td>3535</td>\n",
       "      <td>19.2</td>\n",
       "      <td>78</td>\n",
       "      <td>1</td>\n",
       "    </tr>\n",
       "    <tr>\n",
       "      <th>90</th>\n",
       "      <td>28.0</td>\n",
       "      <td>4</td>\n",
       "      <td>98.0</td>\n",
       "      <td>80.0</td>\n",
       "      <td>2164</td>\n",
       "      <td>15.0</td>\n",
       "      <td>72</td>\n",
       "      <td>1</td>\n",
       "    </tr>\n",
       "    <tr>\n",
       "      <th>249</th>\n",
       "      <td>21.5</td>\n",
       "      <td>4</td>\n",
       "      <td>121.0</td>\n",
       "      <td>110.0</td>\n",
       "      <td>2600</td>\n",
       "      <td>12.8</td>\n",
       "      <td>77</td>\n",
       "      <td>2</td>\n",
       "    </tr>\n",
       "    <tr>\n",
       "      <th>185</th>\n",
       "      <td>23.0</td>\n",
       "      <td>4</td>\n",
       "      <td>120.0</td>\n",
       "      <td>88.0</td>\n",
       "      <td>2957</td>\n",
       "      <td>17.0</td>\n",
       "      <td>75</td>\n",
       "      <td>2</td>\n",
       "    </tr>\n",
       "  </tbody>\n",
       "</table>\n",
       "</div>"
      ],
      "text/plain": [
       "       Regressor  Var1   Var2   Var3  Var4  Var5  Var6  Var7\n",
       "Sl.No                                                       \n",
       "84          22.0     4  121.0   76.0  2511  18.0    72     2\n",
       "259         19.2     6  231.0  105.0  3535  19.2    78     1\n",
       "90          28.0     4   98.0   80.0  2164  15.0    72     1\n",
       "249         21.5     4  121.0  110.0  2600  12.8    77     2\n",
       "185         23.0     4  120.0   88.0  2957  17.0    75     2"
      ]
     },
     "execution_count": 2,
     "metadata": {},
     "output_type": "execute_result"
    }
   ],
   "source": [
    "filepath = \"input.csv\"\n",
    "\n",
    "df = pd.read_csv(filepath, index_col = 0)\n",
    "df = df.dropna(thresh=8) # drop rows with NaN values in any column\n",
    "df = df.sample(frac=1) # shuffle the rows\n",
    "df.head()"
   ]
  },
  {
   "cell_type": "code",
   "execution_count": 3,
   "metadata": {},
   "outputs": [],
   "source": [
    "# assuming Y is always the column next to index\n",
    "\n",
    "Y = df.iloc[:,0].copy().values\n",
    "X = df.iloc[:,1:].copy().values\n",
    "\n",
    "no_x = X.shape[1] # no of independent variables\n",
    "\n",
    "limit = 70*df.shape[0]//100 # for selecting 70% of data\n",
    "\n",
    "Y_train = np.array(Y[:limit])\n",
    "Y_test = np.array(Y[limit:])\n",
    "\n",
    "X = np.transpose(X)\n",
    "X = np.array([(i - np.mean(i))/(np.max(i)-np.min(i)) for i in X]) # normalising\n",
    "\n",
    "X = np.transpose(X)\n",
    "X_train = np.transpose(X[:limit])\n",
    "X_test = np.transpose(X[limit:])"
   ]
  },
  {
   "cell_type": "code",
   "execution_count": null,
   "metadata": {},
   "outputs": [],
   "source": [
    "def plot_error(error):\n",
    "    plt.plot(range(len(error)),error, color=\"red\")\n",
    "    plt.title(\"error vs iteration\")\n",
    "    plt.show()"
   ]
  },
  {
   "cell_type": "code",
   "execution_count": 12,
   "metadata": {},
   "outputs": [],
   "source": [
    "def SGD(w, learning_rate, momentum = 0, epochs=10):\n",
    "    \n",
    "    dw = np.zeros(len(w))\n",
    "    error = []\n",
    "    sum_dL = np.zeros(len(w))\n",
    "    \n",
    "    for epoch in range(epochs):\n",
    "        for i in range(limit):\n",
    "            Y_ = np.matmul(W,X_train)\n",
    "            mse = np.mean((Y_train-Y_)**2)\n",
    "            error.append(mse)\n",
    "            dL_dw = np.array([ 2*(Y_train[i] - Y_[i])*x_j[i] for x_j in X_train]) \n",
    "            \n",
    "            # update term\n",
    "            dw = learning_rate*dL_dw + momentum*dw\n",
    "            w += dw\n",
    "            \n",
    "        plot_error(error)\n",
    "        return w, error"
   ]
  },
  {
   "cell_type": "code",
   "execution_count": 36,
   "metadata": {},
   "outputs": [],
   "source": [
    "def Adagrad(w, learning_rate, epochs=1000):\n",
    "    \n",
    "    dw = np.zeros(len(w))\n",
    "    error = []\n",
    "    sum_dL = np.zeros(len(w))\n",
    "    \n",
    "    for epoch in range(epochs):\n",
    "        for i in range(limit):\n",
    "            Y_ = np.matmul(w,X_train)\n",
    "            mse = np.mean((Y_train-Y_)**2)\n",
    "            error.append(mse)\n",
    "            dL_dw = np.array([ 2*(Y_train[i] - Y_[i])*x_j[i] for x_j in X_train])\n",
    "            \n",
    "            # update term\n",
    "            sum_dL += dL_dw**2\n",
    "            dw = learning_rate*dL_dw*(sum_dL**-1)\n",
    "            w += dw\n",
    "            \n",
    "    plot_error(error)\n",
    "    return w, error"
   ]
  },
  {
   "cell_type": "code",
   "execution_count": 58,
   "metadata": {},
   "outputs": [],
   "source": [
    "def RMSprop(w, learning_rate, epochs=10):\n",
    "    \n",
    "    dw = np.zeros(len(w))\n",
    "    error = []\n",
    "    sum_dL = np.zeros(len(w))\n",
    "    \n",
    "    for epoch in range(epochs):\n",
    "        for i in range(limit):\n",
    "            Y_ = np.matmul(w,X_train)\n",
    "            mse = np.mean((Y_train-Y_)**2)\n",
    "            error.append(mse)\n",
    "            dL_dw = np.array([ 2*(Y_train[i] - Y_[i])*x_j[i] for x_j in X_train])\n",
    "            \n",
    "            # update term\n",
    "            sum_dL = 0.9*sum_dL + 0.1*dL_dw**2\n",
    "            dw = learning_rate*dL_dw*(sum_dL**-1)\n",
    "            w += dw\n",
    "            \n",
    "    plot_error(error)\n",
    "    return w, error"
   ]
  },
  {
   "cell_type": "code",
   "execution_count": null,
   "metadata": {},
   "outputs": [],
   "source": [
    "\n"
   ]
  },
  {
   "cell_type": "code",
   "execution_count": 6,
   "metadata": {},
   "outputs": [
    {
     "name": "stdout",
     "output_type": "stream",
     "text": [
      "test_error : 561.527276108\n"
     ]
    }
   ],
   "source": [
    "Y_ = np.matmul(W, X_test)\n",
    "test_error = np.mean((Y_test - Y_)**2)\n",
    "print(\"test_error : \"+str(test_error))"
   ]
  },
  {
   "cell_type": "code",
   "execution_count": 4,
   "metadata": {
    "scrolled": false
   },
   "outputs": [
    {
     "name": "stdout",
     "output_type": "stream",
     "text": [
      "train_error : 565.305163487\n",
      "weights : [  8.74191665 -11.3515219   19.28223518 -33.93018456  10.6118113\n",
      "   9.64508625   2.31117653]\n"
     ]
    }
   ],
   "source": [
    "learning_rate = 1\n",
    "error = []\n",
    "W = np.zeros(no_x)\n",
    "\n",
    "for _ in range(1000):\n",
    "    \n",
    "    Y_ = np.matmul(W, X_train)\n",
    "    \n",
    "    mse = np.mean((Y_train - Y_)**2)\n",
    "    error.append(mse) # for plotting\n",
    "\n",
    "    ct = 2*(Y_train - Y_) # common term in derivative\n",
    "    \n",
    "    dL_dw = np.array([ np.mean(ct*x_js) for x_js in X_train]) \n",
    "    \n",
    "    W =  W + learning_rate*dL_dw\n",
    "\n",
    "print(\"train_error : \"+str(mse))\n",
    "print(\"weights : \"+str(W))"
   ]
  },
  {
   "cell_type": "code",
   "execution_count": null,
   "metadata": {},
   "outputs": [],
   "source": []
  },
  {
   "cell_type": "code",
   "execution_count": null,
   "metadata": {},
   "outputs": [],
   "source": []
  },
  {
   "cell_type": "code",
   "execution_count": 7,
   "metadata": {
    "scrolled": true
   },
   "outputs": [
    {
     "data": {
      "image/png": "[encoded data removed]",
      "text/plain": [
       "<matplotlib.figure.Figure at 0x11300cbd0>"
      ]
     },
     "metadata": {},
     "output_type": "display_data"
    }
   ],
   "source": [
    "from mpl_toolkits.mplot3d import Axes3D\n",
    "\n",
    "fig = plt.figure()\n",
    "ax = fig.add_subplot(111, projection=\"3d\")\n",
    "\n",
    "x1 = np.linspace(-1,1,100)\n",
    "x2 = np.linspace(-1,1,100)\n",
    "x1, x2 = np.meshgrid(x1,x2)\n",
    "# z = ?\n",
    "\n",
    "ax.scatter(X_train[1], X_train[2], Y_train, color= 'b', marker=\".\",alpha= 0.5)\n",
    "# ax.plot_surface(x1, x2, z, color= 'r', alpha= 0.5)\n",
    "\n",
    "plt.show()"
   ]
  },
  {
   "cell_type": "code",
   "execution_count": null,
   "metadata": {},
   "outputs": [],
   "source": []
  },
  {
   "cell_type": "code",
   "execution_count": null,
   "metadata": {},
   "outputs": [],
   "source": []
  }
 ],
 "metadata": {
  "kernelspec": {
   "display_name": "Python 2",
   "language": "python",
   "name": "python2"
  },
  "language_info": {
   "codemirror_mode": {
    "name": "ipython",
    "version": 2
   },
   "file_extension": ".py",
   "mimetype": "text/x-python",
   "name": "python",
   "nbconvert_exporter": "python",
   "pygments_lexer": "ipython2",
   "version": "2.7.14"
  }
 },
 "nbformat": 4,
 "nbformat_minor": 2
}
