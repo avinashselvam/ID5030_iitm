{
 "cells": [
  {
   "cell_type": "markdown",
   "metadata": {},
   "source": [
    "# 1. c) Reading inputs"
   ]
  },
  {
   "cell_type": "code",
   "execution_count": 2,
   "metadata": {},
   "outputs": [],
   "source": [
    "import numpy as np\n",
    "import pandas as pd\n",
    "import matplotlib.pyplot as plt\n",
    "\n",
    "%matplotlib inline"
   ]
  },
  {
   "cell_type": "code",
   "execution_count": 3,
   "metadata": {},
   "outputs": [
    {
     "data": {
      "text/html": [
       "<div>\n",
       "<style scoped>\n",
       "    .dataframe tbody tr th:only-of-type {\n",
       "        vertical-align: middle;\n",
       "    }\n",
       "\n",
       "    .dataframe tbody tr th {\n",
       "        vertical-align: top;\n",
       "    }\n",
       "\n",
       "    .dataframe thead th {\n",
       "        text-align: right;\n",
       "    }\n",
       "</style>\n",
       "<table border=\"1\" class=\"dataframe\">\n",
       "  <thead>\n",
       "    <tr style=\"text-align: right;\">\n",
       "      <th></th>\n",
       "      <th>Regressor</th>\n",
       "      <th>Var1</th>\n",
       "      <th>Var2</th>\n",
       "      <th>Var3</th>\n",
       "      <th>Var4</th>\n",
       "      <th>Var5</th>\n",
       "      <th>Var6</th>\n",
       "      <th>Var7</th>\n",
       "    </tr>\n",
       "    <tr>\n",
       "      <th>Sl.No</th>\n",
       "      <th></th>\n",
       "      <th></th>\n",
       "      <th></th>\n",
       "      <th></th>\n",
       "      <th></th>\n",
       "      <th></th>\n",
       "      <th></th>\n",
       "      <th></th>\n",
       "    </tr>\n",
       "  </thead>\n",
       "  <tbody>\n",
       "    <tr>\n",
       "      <th>152</th>\n",
       "      <td>32.0</td>\n",
       "      <td>4</td>\n",
       "      <td>83.0</td>\n",
       "      <td>61.0</td>\n",
       "      <td>2003</td>\n",
       "      <td>19.0</td>\n",
       "      <td>74</td>\n",
       "      <td>3</td>\n",
       "    </tr>\n",
       "    <tr>\n",
       "      <th>279</th>\n",
       "      <td>23.8</td>\n",
       "      <td>4</td>\n",
       "      <td>151.0</td>\n",
       "      <td>85.0</td>\n",
       "      <td>2855</td>\n",
       "      <td>17.6</td>\n",
       "      <td>78</td>\n",
       "      <td>1</td>\n",
       "    </tr>\n",
       "    <tr>\n",
       "      <th>328</th>\n",
       "      <td>32.2</td>\n",
       "      <td>4</td>\n",
       "      <td>108.0</td>\n",
       "      <td>75.0</td>\n",
       "      <td>2265</td>\n",
       "      <td>15.2</td>\n",
       "      <td>80</td>\n",
       "      <td>3</td>\n",
       "    </tr>\n",
       "    <tr>\n",
       "      <th>383</th>\n",
       "      <td>36.0</td>\n",
       "      <td>4</td>\n",
       "      <td>105.0</td>\n",
       "      <td>74.0</td>\n",
       "      <td>1980</td>\n",
       "      <td>15.3</td>\n",
       "      <td>82</td>\n",
       "      <td>2</td>\n",
       "    </tr>\n",
       "    <tr>\n",
       "      <th>256</th>\n",
       "      <td>19.9</td>\n",
       "      <td>8</td>\n",
       "      <td>260.0</td>\n",
       "      <td>110.0</td>\n",
       "      <td>3365</td>\n",
       "      <td>15.5</td>\n",
       "      <td>78</td>\n",
       "      <td>1</td>\n",
       "    </tr>\n",
       "  </tbody>\n",
       "</table>\n",
       "</div>"
      ],
      "text/plain": [
       "       Regressor  Var1   Var2   Var3  Var4  Var5  Var6  Var7\n",
       "Sl.No                                                       \n",
       "152         32.0     4   83.0   61.0  2003  19.0    74     3\n",
       "279         23.8     4  151.0   85.0  2855  17.6    78     1\n",
       "328         32.2     4  108.0   75.0  2265  15.2    80     3\n",
       "383         36.0     4  105.0   74.0  1980  15.3    82     2\n",
       "256         19.9     8  260.0  110.0  3365  15.5    78     1"
      ]
     },
     "execution_count": 3,
     "metadata": {},
     "output_type": "execute_result"
    }
   ],
   "source": [
    "filepath = \"input.csv\"\n",
    "\n",
    "df = pd.read_csv(filepath, index_col = 0)\n",
    "df = df.dropna(thresh=8) # drop rows with NaN values in any column \n",
    "df = df.sample(frac=1) # shuffle the rows\n",
    "df.head()"
   ]
  },
  {
   "cell_type": "code",
   "execution_count": 4,
   "metadata": {},
   "outputs": [],
   "source": [
    "# assuming Y is always the column next to index\n",
    "\n",
    "Y = df.iloc[:,0].copy().values\n",
    "X = df.iloc[:,1:].copy().values\n",
    "\n",
    "no_x = X.shape[1] # no of independent variables\n",
    "\n",
    "limit = 70*df.shape[0]//100 # for selecting 70% of data\n",
    "\n",
    "Y_train = np.array(Y[:limit])\n",
    "Y_test = np.array(Y[limit:])\n",
    "\n",
    "X = np.transpose(X)\n",
    "X = np.array([(i - np.mean(i))/(np.max(i)-np.min(i)) for i in X]) # normalising\n",
    "\n",
    "X = np.transpose(X)\n",
    "X_train = np.transpose(X[:limit])\n",
    "X_test = np.transpose(X[limit:])"
   ]
  },
  {
   "cell_type": "code",
   "execution_count": 5,
   "metadata": {
    "scrolled": false
   },
   "outputs": [
    {
     "name": "stdout",
     "output_type": "stream",
     "text": [
      "train_error : 557.290353621\n",
      "weights : [  3.92331863  -7.8760789  -13.72747768  -4.79759385 -16.37957457\n",
      "  12.34614932   6.67171051]\n"
     ]
    }
   ],
   "source": [
    "learning_rate = 1\n",
    "error = []\n",
    "W = np.zeros(no_x)\n",
    "\n",
    "for _ in range(1000):\n",
    "    Y_ = np.matmul(W, X_train)\n",
    "    mse = np.mean((Y_train - Y_)**2)\n",
    "    error.append(mse) # for plotting\n",
    "    ct = 2*(Y_train - Y_) # common term in derivative\n",
    "    dL_dw = np.array([ np.mean(ct*x_js) for x_js in X_train]) \n",
    "    W =  W + learning_rate*dL_dw\n",
    "\n",
    "print(\"train_error : \"+str(mse))\n",
    "print(\"weights : \"+str(W))"
   ]
  },
  {
   "cell_type": "code",
   "execution_count": 6,
   "metadata": {},
   "outputs": [
    {
     "data": {
      "image/png": "[encoded data removed]",
      "text/plain": [
       "<matplotlib.figure.Figure at 0x106d09b50>"
      ]
     },
     "metadata": {},
     "output_type": "display_data"
    }
   ],
   "source": [
    "plt.plot(range(len(error[:])),error[:], color=\"red\")\n",
    "plt.title(\"error vs iteration\")\n",
    "plt.show()"
   ]
  },
  {
   "cell_type": "code",
   "execution_count": 7,
   "metadata": {},
   "outputs": [
    {
     "name": "stdout",
     "output_type": "stream",
     "text": [
      "test_error : 592.65360784\n"
     ]
    }
   ],
   "source": [
    "Y_ = np.matmul(W, X_test)\n",
    "test_error = np.mean((Y_test - Y_)**2)\n",
    "print(\"test_error : \"+str(test_error))"
   ]
  }
 ],
 "metadata": {
  "kernelspec": {
   "display_name": "Python 2",
   "language": "python",
   "name": "python2"
  },
  "language_info": {
   "codemirror_mode": {
    "name": "ipython",
    "version": 2
   },
   "file_extension": ".py",
   "mimetype": "text/x-python",
   "name": "python",
   "nbconvert_exporter": "python",
   "pygments_lexer": "ipython2",
   "version": "2.7.14"
  }
 },
 "nbformat": 4,
 "nbformat_minor": 2
}
