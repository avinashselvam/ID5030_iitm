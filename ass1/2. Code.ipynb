{
 "cells": [
  {
   "cell_type": "markdown",
   "metadata": {},
   "source": [
    "# 2. b) Code for the specific modules"
   ]
  },
  {
   "cell_type": "code",
   "execution_count": 92,
   "metadata": {},
   "outputs": [],
   "source": [
    "import numpy as np\n",
    "import matplotlib.pyplot as plt\n",
    "\n",
    "%matplotlib inline"
   ]
  },
  {
   "cell_type": "code",
   "execution_count": 93,
   "metadata": {},
   "outputs": [],
   "source": [
    "W = np.array([0., 0., 0.])\n",
    "\n",
    "W_true = np.array([5, 12, 0.07]) # Ground truth: y = 5 + 12*x1 + 0.07*x2\n",
    "\n",
    "m = 1000\n",
    "limit = 700\n",
    "\n",
    "# instead of generating random numbers and normalising start with normalised data\n",
    "X_train = np.array([np.ones(limit), np.random.randn(limit,), np.random.randn(limit,)])\n",
    "X_test = np.array([np.ones(m-limit), np.random.randn(m-limit,), np.random.randn(m-limit,)])\n",
    "\n",
    "Y_train = np.matmul(W_true,X_train)\n",
    "Y_test = np.matmul(W_true,X_test)"
   ]
  },
  {
   "cell_type": "code",
   "execution_count": 68,
   "metadata": {},
   "outputs": [],
   "source": [
    "def plot_error(error):\n",
    "    plt.plot(range(len(error)),error, color=\"red\")\n",
    "    plt.title(\"error vs iteration\")\n",
    "    plt.show()"
   ]
  },
  {
   "cell_type": "code",
   "execution_count": 69,
   "metadata": {},
   "outputs": [],
   "source": [
    "def SGD(w, learning_rate, momentum = 0, epochs=1):\n",
    "    \n",
    "    dw = np.zeros(len(w))\n",
    "    error = []\n",
    "    sum_dL = np.zeros(len(w))\n",
    "    \n",
    "    for epoch in range(epochs):\n",
    "        for i in range(limit):\n",
    "            Y_ = np.matmul(W,X_train)\n",
    "            mse = np.mean((Y_train-Y_)**2)\n",
    "            error.append(mse)\n",
    "            dL_dw = np.array([ 2*(Y_train[i] - Y_[i])*x_j[i] for x_j in X_train]) \n",
    "            \n",
    "            # update term\n",
    "            dw = learning_rate*dL_dw + momentum*dw\n",
    "            w += dw\n",
    "            \n",
    "        plot_error(error)\n",
    "        return w, error"
   ]
  },
  {
   "cell_type": "code",
   "execution_count": 88,
   "metadata": {},
   "outputs": [],
   "source": [
    "def Adagrad(w, learning_rate, epochs=1):\n",
    "    \n",
    "    dw = np.zeros(len(w))\n",
    "    error = []\n",
    "    sum_dL = np.zeros(len(w))\n",
    "    \n",
    "    for epoch in range(epochs):\n",
    "        for i in range(limit):\n",
    "            Y_ = np.matmul(w,X_train)\n",
    "            mse = np.mean((Y_train-Y_)**2)\n",
    "            error.append(mse)\n",
    "            dL_dw = np.array([ 2*(Y_train[i] - Y_[i])*x_j[i] for x_j in X_train])\n",
    "            \n",
    "            # update term\n",
    "            sum_dL += dL_dw**2\n",
    "            dw = learning_rate*dL_dw*(sum_dL**-0.5)\n",
    "            w += dw\n",
    "            \n",
    "    plot_error(error)\n",
    "    return w, error"
   ]
  },
  {
   "cell_type": "code",
   "execution_count": 89,
   "metadata": {},
   "outputs": [],
   "source": [
    "def RMSprop(w, learning_rate, epochs=1):\n",
    "    \n",
    "    dw = np.zeros(len(w))\n",
    "    error = []\n",
    "    sum_dL = np.zeros(len(w))\n",
    "    \n",
    "    for epoch in range(epochs):\n",
    "        for i in range(limit):\n",
    "            Y_ = np.matmul(w,X_train)\n",
    "            mse = np.mean((Y_train-Y_)**2)\n",
    "            error.append(mse)\n",
    "            dL_dw = np.array([ 2*(Y_train[i] - Y_[i])*x_j[i] for x_j in X_train])\n",
    "            \n",
    "            # update term\n",
    "            sum_dL = 0.9*sum_dL + 0.1*dL_dw**2\n",
    "            dw = learning_rate*dL_dw*(sum_dL**-0.5)\n",
    "            w += dw\n",
    "            \n",
    "    plot_error(error)\n",
    "    return w, error"
   ]
  },
  {
   "cell_type": "markdown",
   "metadata": {},
   "source": [
    "# 2. c) Plot for convergence of the loss function with number of iterations"
   ]
  },
  {
   "cell_type": "code",
   "execution_count": 55,
   "metadata": {},
   "outputs": [
    {
     "data": {
      "image/png": "[encoded data removed]",
      "text/plain": [
       "<matplotlib.figure.Figure at 0x11b1a4bd0>"
      ]
     },
     "metadata": {},
     "output_type": "display_data"
    }
   ],
   "source": [
    "w_sgd_plain, error_sgd_plain = SGD(W,0.01)"
   ]
  },
  {
   "cell_type": "code",
   "execution_count": 57,
   "metadata": {},
   "outputs": [
    {
     "name": "stdout",
     "output_type": "stream",
     "text": [
      "test_error : 8.2359623006e-12\n"
     ]
    }
   ],
   "source": [
    "Y_ = np.matmul(w_sgd_plain,X_test)\n",
    "mse = np.mean((Y_test-Y_)**2)\n",
    "print(\"test_error : \"+str(mse))"
   ]
  },
  {
   "cell_type": "code",
   "execution_count": 60,
   "metadata": {},
   "outputs": [
    {
     "data": {
      "image/png": "[encoded data removed]",
      "text/plain": [
       "<matplotlib.figure.Figure at 0x116937310>"
      ]
     },
     "metadata": {},
     "output_type": "display_data"
    }
   ],
   "source": [
    "w_sgd, error_sgd = SGD(W,0.01,0.5)"
   ]
  },
  {
   "cell_type": "code",
   "execution_count": 61,
   "metadata": {},
   "outputs": [
    {
     "name": "stdout",
     "output_type": "stream",
     "text": [
      "test_error : 6.31907302521e-25\n"
     ]
    }
   ],
   "source": [
    "Y_ = np.matmul(w_sgd,X_test)\n",
    "mse = np.mean((Y_test-Y_)**2)\n",
    "print(\"test_error : \"+str(mse))"
   ]
  },
  {
   "cell_type": "code",
   "execution_count": 90,
   "metadata": {},
   "outputs": [
    {
     "data": {
      "image/png": "[encoded data removed]",
      "text/plain": [
       "<matplotlib.figure.Figure at 0x115d1ec90>"
      ]
     },
     "metadata": {},
     "output_type": "display_data"
    }
   ],
   "source": [
    "w_ada, error_ada = Adagrad(W,1)"
   ]
  },
  {
   "cell_type": "code",
   "execution_count": 91,
   "metadata": {},
   "outputs": [
    {
     "name": "stdout",
     "output_type": "stream",
     "text": [
      "test_error : 2.45981872048e-08\n"
     ]
    }
   ],
   "source": [
    "Y_ = np.matmul(w_ada,X_test)\n",
    "mse = np.mean((Y_test-Y_)**2)\n",
    "print(\"test_error : \"+str(mse))"
   ]
  },
  {
   "cell_type": "code",
   "execution_count": 94,
   "metadata": {},
   "outputs": [
    {
     "data": {
      "image/png": "[encoded data removed]",
      "text/plain": [
       "<matplotlib.figure.Figure at 0x115d17e50>"
      ]
     },
     "metadata": {},
     "output_type": "display_data"
    }
   ],
   "source": [
    "w_rms, error_rms = RMSprop(W,0.1)"
   ]
  },
  {
   "cell_type": "code",
   "execution_count": 95,
   "metadata": {},
   "outputs": [
    {
     "name": "stdout",
     "output_type": "stream",
     "text": [
      "test_error : 0.000206887032254\n"
     ]
    }
   ],
   "source": [
    "Y_ = np.matmul(w_rms,X_test)\n",
    "mse = np.mean((Y_test-Y_)**2)\n",
    "print(\"test_error : \"+str(mse))"
   ]
  }
 ],
 "metadata": {
  "kernelspec": {
   "display_name": "Python 2",
   "language": "python",
   "name": "python2"
  },
  "language_info": {
   "codemirror_mode": {
    "name": "ipython",
    "version": 2
   },
   "file_extension": ".py",
   "mimetype": "text/x-python",
   "name": "python",
   "nbconvert_exporter": "python",
   "pygments_lexer": "ipython2",
   "version": "2.7.14"
  }
 },
 "nbformat": 4,
 "nbformat_minor": 2
}
